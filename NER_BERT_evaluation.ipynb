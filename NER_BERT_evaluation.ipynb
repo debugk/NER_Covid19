{
  "nbformat": 4,
  "nbformat_minor": 0,
  "metadata": {
    "colab": {
      "name": "NER_BERT_evaluation.ipynb",
      "provenance": [],
      "authorship_tag": "ABX9TyPjbnFlhMnQRBcHybu2L3Hm",
      "include_colab_link": true
    },
    "kernelspec": {
      "name": "python3",
      "display_name": "Python 3"
    },
    "accelerator": "GPU"
  },
  "cells": [
    {
      "cell_type": "markdown",
      "metadata": {
        "id": "view-in-github",
        "colab_type": "text"
      },
      "source": [
        "<a href=\"https://colab.research.google.com/github/zhuhel/NER_Covid19/blob/master/NER_BERT_evaluation.ipynb\" target=\"_parent\"><img src=\"https://colab.research.google.com/assets/colab-badge.svg\" alt=\"Open In Colab\"/></a>"
      ]
    },
    {
      "cell_type": "markdown",
      "metadata": {
        "id": "dwPcFVUs3UCq",
        "colab_type": "text"
      },
      "source": [
        "# Upload model and tokenizer"
      ]
    },
    {
      "cell_type": "code",
      "metadata": {
        "id": "ziSb3-jO1omp",
        "colab_type": "code",
        "colab": {
          "base_uri": "https://localhost:8080/",
          "height": 156
        },
        "outputId": "c1ddce26-b2e0-471d-d12e-dbb700ff6756"
      },
      "source": [
        "import pandas as pd\n",
        "import numpy as np\n",
        "import seaborn as sns\n",
        "import matplotlib.pyplot as plt\n",
        "import datetime as datetime\n",
        "\n",
        "from google.colab import drive\n",
        "drive.mount('/content/gdrive')"
      ],
      "execution_count": null,
      "outputs": [
        {
          "output_type": "stream",
          "text": [
            "/usr/local/lib/python3.6/dist-packages/statsmodels/tools/_testing.py:19: FutureWarning: pandas.util.testing is deprecated. Use the functions in the public API at pandas.testing instead.\n",
            "  import pandas.util.testing as tm\n"
          ],
          "name": "stderr"
        },
        {
          "output_type": "stream",
          "text": [
            "Go to this URL in a browser: https://accounts.google.com/o/oauth2/auth?client_id=947318989803-6bn6qk8qdgf4n4g3pfee6491hc0brc4i.apps.googleusercontent.com&redirect_uri=urn%3aietf%3awg%3aoauth%3a2.0%3aoob&response_type=code&scope=email%20https%3a%2f%2fwww.googleapis.com%2fauth%2fdocs.test%20https%3a%2f%2fwww.googleapis.com%2fauth%2fdrive%20https%3a%2f%2fwww.googleapis.com%2fauth%2fdrive.photos.readonly%20https%3a%2f%2fwww.googleapis.com%2fauth%2fpeopleapi.readonly\n",
            "\n",
            "Enter your authorization code:\n",
            "··········\n",
            "Mounted at /content/gdrive\n"
          ],
          "name": "stdout"
        }
      ]
    },
    {
      "cell_type": "code",
      "metadata": {
        "id": "SgASLOWL2GXB",
        "colab_type": "code",
        "colab": {
          "base_uri": "https://localhost:8080/",
          "height": 340
        },
        "outputId": "6287949c-658e-4d0e-f2c5-2cfc93dd2350"
      },
      "source": [
        "#install the amazing transformers package by huggingface\n",
        "!pip install transformers\n",
        "\n",
        "import torch\n",
        "from torch.utils.data import TensorDataset, DataLoader, RandomSampler, SequentialSampler\n",
        "from transformers import BertTokenizer, BertConfig, BertForTokenClassification, AdamW\n",
        "\n",
        "from keras.preprocessing.sequence import pad_sequences\n",
        "from sklearn.model_selection import train_test_split"
      ],
      "execution_count": null,
      "outputs": [
        {
          "output_type": "stream",
          "text": [
            "Requirement already satisfied: transformers in /usr/local/lib/python3.6/dist-packages (3.0.2)\n",
            "Requirement already satisfied: dataclasses; python_version < \"3.7\" in /usr/local/lib/python3.6/dist-packages (from transformers) (0.7)\n",
            "Requirement already satisfied: tokenizers==0.8.1.rc1 in /usr/local/lib/python3.6/dist-packages (from transformers) (0.8.1rc1)\n",
            "Requirement already satisfied: requests in /usr/local/lib/python3.6/dist-packages (from transformers) (2.23.0)\n",
            "Requirement already satisfied: filelock in /usr/local/lib/python3.6/dist-packages (from transformers) (3.0.12)\n",
            "Requirement already satisfied: packaging in /usr/local/lib/python3.6/dist-packages (from transformers) (20.4)\n",
            "Requirement already satisfied: sentencepiece!=0.1.92 in /usr/local/lib/python3.6/dist-packages (from transformers) (0.1.91)\n",
            "Requirement already satisfied: regex!=2019.12.17 in /usr/local/lib/python3.6/dist-packages (from transformers) (2019.12.20)\n",
            "Requirement already satisfied: numpy in /usr/local/lib/python3.6/dist-packages (from transformers) (1.18.5)\n",
            "Requirement already satisfied: tqdm>=4.27 in /usr/local/lib/python3.6/dist-packages (from transformers) (4.41.1)\n",
            "Requirement already satisfied: sacremoses in /usr/local/lib/python3.6/dist-packages (from transformers) (0.0.43)\n",
            "Requirement already satisfied: idna<3,>=2.5 in /usr/local/lib/python3.6/dist-packages (from requests->transformers) (2.10)\n",
            "Requirement already satisfied: certifi>=2017.4.17 in /usr/local/lib/python3.6/dist-packages (from requests->transformers) (2020.6.20)\n",
            "Requirement already satisfied: urllib3!=1.25.0,!=1.25.1,<1.26,>=1.21.1 in /usr/local/lib/python3.6/dist-packages (from requests->transformers) (1.24.3)\n",
            "Requirement already satisfied: chardet<4,>=3.0.2 in /usr/local/lib/python3.6/dist-packages (from requests->transformers) (3.0.4)\n",
            "Requirement already satisfied: six in /usr/local/lib/python3.6/dist-packages (from packaging->transformers) (1.12.0)\n",
            "Requirement already satisfied: pyparsing>=2.0.2 in /usr/local/lib/python3.6/dist-packages (from packaging->transformers) (2.4.7)\n",
            "Requirement already satisfied: click in /usr/local/lib/python3.6/dist-packages (from sacremoses->transformers) (7.1.2)\n",
            "Requirement already satisfied: joblib in /usr/local/lib/python3.6/dist-packages (from sacremoses->transformers) (0.16.0)\n"
          ],
          "name": "stdout"
        }
      ]
    },
    {
      "cell_type": "code",
      "metadata": {
        "id": "qRSx1Z9I2KNS",
        "colab_type": "code",
        "colab": {
          "base_uri": "https://localhost:8080/",
          "height": 35
        },
        "outputId": "44bf0b91-a255-45c0-ed3f-0a75c4dd54ed"
      },
      "source": [
        "## setup GPU\n",
        "device = torch.device(\"cuda\" if torch.cuda.is_available() else \"cpu\")\n",
        "n_gpu = torch.cuda.device_count()\n",
        "torch.cuda.get_device_name(0)"
      ],
      "execution_count": null,
      "outputs": [
        {
          "output_type": "execute_result",
          "data": {
            "application/vnd.google.colaboratory.intrinsic": {
              "type": "string"
            },
            "text/plain": [
              "'Tesla K80'"
            ]
          },
          "metadata": {
            "tags": []
          },
          "execution_count": 4
        }
      ]
    },
    {
      "cell_type": "code",
      "metadata": {
        "id": "Z0rf427p14OE",
        "colab_type": "code",
        "colab": {}
      },
      "source": [
        "output_dir = '/content/gdrive/My Drive/Covid19_data/model_save/'\n",
        "# Load a trained model and vocabulary that you have fine-tuned\n",
        "model = BertForTokenClassification.from_pretrained(output_dir)\n",
        "tokenizer = BertTokenizer.from_pretrained(output_dir)\n",
        "\n",
        "# Copy the model to the GPU.\n",
        "model.to(device)"
      ],
      "execution_count": null,
      "outputs": []
    },
    {
      "cell_type": "markdown",
      "metadata": {
        "id": "riez1qqn3aRT",
        "colab_type": "text"
      },
      "source": [
        "# Apply the model to a new sentence"
      ]
    },
    {
      "cell_type": "code",
      "metadata": {
        "id": "AEgUzaPH3NHm",
        "colab_type": "code",
        "colab": {}
      },
      "source": [
        "test_sentence=\"\"\"\n",
        "Exceptional diversity and selection pressure on SARS-CoV and SARS-CoV-2 host receptor in bats compared to other mammals\\tPandemics originating from pathogen transmission between animals and humans highlight the broader need to understand how natural hosts have evolved in response to emerging human pathogens and which groups may be susceptible to infection. Here, we investigate angiotensin-converting enzyme 2 (ACE2), the host protein bound by SARS-CoV and SARS-CoV-2. We find that the ACE2 gene is under strong selection pressure in bats, the group in which the progenitors of SARS-CoV and SARS-CoV-2 are hypothesized to have evolved, particularly in residues that contact SARS-CoV and SARS-CoV-2. We detect positive selection in non-bat mammals in ACE2 but in a smaller proportion of branches than in bats, without enrichment of selection in residues that contact SARS-CoV or SARS-CoV-2. Additionally, we evaluate similarity between humans and other species in residues that contact SARS-CoV or SARS-CoV-2, revealing potential susceptible species but also highlighting the difficulties of predicting spillover events. This work increases our understanding of the relationship between mammals, particularly bats, and coronaviruses, and provides data that can be used in functional studies of how host proteins are bound by SARS-CoV and SARS-CoV-2 strains.\n",
        "\"\"\""
      ],
      "execution_count": null,
      "outputs": []
    },
    {
      "cell_type": "code",
      "metadata": {
        "id": "JfQNhJyI3fnQ",
        "colab_type": "code",
        "colab": {
          "base_uri": "https://localhost:8080/",
          "height": 561
        },
        "outputId": "7d67354c-97da-4fe6-a7e4-e08ebdcf4b97"
      },
      "source": [
        "# first tokenize the text\n",
        "tokenized_sentence = tokenizer.encode(test_sentence)\n",
        "test_input_ids = torch.tensor([tokenized_sentence]).cuda()\n",
        "\n",
        "test_input_ids"
      ],
      "execution_count": null,
      "outputs": [
        {
          "output_type": "execute_result",
          "data": {
            "text/plain": [
              "tensor([[  101, 11813,  8906,  1998,  4989,  3778,  2006, 18906,  2015,  1011,\n",
              "          2522,  2615,  1998, 18906,  2015,  1011,  2522,  2615,  1011,  1016,\n",
              "          3677, 10769,  1999, 12236,  4102,  2000,  2060, 11993,  6090,  3207,\n",
              "         22924, 14802,  2013, 26835,  6726,  2090,  4176,  1998,  4286, 12944,\n",
              "          1996, 12368,  2342,  2000,  3305,  2129,  3019,  6184,  2031,  7964,\n",
              "          1999,  3433,  2000,  8361,  2529, 26835,  2015,  1998,  2029,  2967,\n",
              "          2089,  2022, 18002,  2000,  8985,  1012,  2182,  1010,  2057,  8556,\n",
              "         17076, 25185,  6132,  2378,  1011, 16401,  9007,  1016,  1006,  9078,\n",
              "          2475,  1007,  1010,  1996,  3677,  5250,  5391,  2011, 18906,  2015,\n",
              "          1011,  2522,  2615,  1998, 18906,  2015,  1011,  2522,  2615,  1011,\n",
              "          1016,  1012,  2057,  2424,  2008,  1996,  9078,  2475,  4962,  2003,\n",
              "          2104,  2844,  4989,  3778,  1999, 12236,  1010,  1996,  2177,  1999,\n",
              "          2029,  1996,  4013,  6914, 27287,  1997, 18906,  2015,  1011,  2522,\n",
              "          2615,  1998, 18906,  2015,  1011,  2522,  2615,  1011,  1016,  2024,\n",
              "          1044, 22571, 14573,  2229,  3550,  2000,  2031,  7964,  1010,  3391,\n",
              "          1999, 22644,  2008,  3967, 18906,  2015,  1011,  2522,  2615,  1998,\n",
              "         18906,  2015,  1011,  2522,  2615,  1011,  1016,  1012,  2057, 11487,\n",
              "          3893,  4989,  1999,  2512,  1011,  7151, 11993,  1999,  9078,  2475,\n",
              "          2021,  1999,  1037,  3760, 10817,  1997,  5628,  2084,  1999, 12236,\n",
              "          1010,  2302, 27226,  1997,  4989,  1999, 22644,  2008,  3967, 18906,\n",
              "          2015,  1011,  2522,  2615,  2030, 18906,  2015,  1011,  2522,  2615,\n",
              "          1011,  1016,  1012,  5678,  1010,  2057, 16157, 14402,  2090,  4286,\n",
              "          1998,  2060,  2427,  1999, 22644,  2008,  3967, 18906,  2015,  1011,\n",
              "          2522,  2615,  2030, 18906,  2015,  1011,  2522,  2615,  1011,  1016,\n",
              "          1010,  8669,  4022, 18002,  2427,  2021,  2036, 20655,  1996,  8190,\n",
              "          1997, 29458, 14437,  7840,  2824,  1012,  2023,  2147,  7457,  2256,\n",
              "          4824,  1997,  1996,  3276,  2090, 11993,  1010,  3391, 12236,  1010,\n",
              "          1998, 21887, 23350,  2229,  1010,  1998,  3640,  2951,  2008,  2064,\n",
              "          2022,  2109,  1999,  8360,  2913,  1997,  2129,  3677,  8171,  2024,\n",
              "          5391,  2011, 18906,  2015,  1011,  2522,  2615,  1998, 18906,  2015,\n",
              "          1011,  2522,  2615,  1011,  1016, 18859,  1012,   102]],\n",
              "       device='cuda:0')"
            ]
          },
          "metadata": {
            "tags": []
          },
          "execution_count": 17
        }
      ]
    },
    {
      "cell_type": "code",
      "metadata": {
        "id": "2GCxQdbS3o9a",
        "colab_type": "code",
        "colab": {}
      },
      "source": [
        "model.eval()\n",
        "# run the sentence through the model\n",
        "with torch.no_grad():\n",
        "    output = model(test_input_ids)\n",
        "label_indices = np.argmax(output[0].to('cpu').numpy(), axis=2)"
      ],
      "execution_count": null,
      "outputs": []
    },
    {
      "cell_type": "code",
      "metadata": {
        "id": "6EUGm3tQ3r17",
        "colab_type": "code",
        "colab": {}
      },
      "source": [
        "tag_values = ['B-Virus', 'B-Organization', 'I-Drug', 'B-Drug', 'O', 'I-Virus', 'B-Chemical', 'B-Disease', 'I-Disease', 'B-Gene', 'I-Organization', 'I-Chemical', 'I-ChemicalCompound', 'I-Gene', 'B-Phenotype', 'I-Phenotype', 'B-ChemicalCompound', 'PAD']\n",
        "# join bpe split tokens\n",
        "tokens = tokenizer.convert_ids_to_tokens(test_input_ids.to('cpu').numpy()[0])\n",
        "new_tokens, new_labels = [], []\n",
        "for token, label_idx in zip(tokens, label_indices[0]):\n",
        "    if token.startswith(\"##\"):\n",
        "        new_tokens[-1] = new_tokens[-1] + token[2:]\n",
        "    else:\n",
        "        new_labels.append(tag_values[label_idx])\n",
        "        new_tokens.append(token)"
      ],
      "execution_count": null,
      "outputs": []
    },
    {
      "cell_type": "markdown",
      "metadata": {
        "id": "Iqr280Gw5Wgw",
        "colab_type": "text"
      },
      "source": [
        "entities\": [{\"entity\": \"SARS-CoV\", \"type\": \"Virus\", \"start\": 48, \"end\": 56}, {\"entity\": \"SARS-CoV\", \"type\": \"Virus\", \"start\": 445, \"end\": 453}, {\"entity\": \"SARS-CoV\", \"type\": \"Virus\", \"start\": 579, \"end\": 587}, {\"entity\": \"SARS-CoV\", \"type\": \"Virus\", \"start\": 675, \"end\": 683}, {\"entity\": \"SARS-CoV\", \"type\": \"Virus\", \"start\": 867, \"end\": 875}, {\"entity\": \"SARS-CoV\", \"type\": \"Virus\", \"start\": 986, \"end\": 994}, {\"entity\": \"SARS-CoV\", \"type\": \"Virus\", \"start\": 1325, \"end\": 1333}, {\"entity\": \"angiotensin-converting enzyme 2\", \"type\": \"Gene\", \"start\": 379, \"end\": 410}, {\"entity\": \"ACE2\", \"type\": \"Gene\", \"start\": 412, \"end\": 416}, {\"entity\": \"ACE2\", \"type\": \"Gene\", \"start\": 751, \"end\": 755}, {\"entity\": \"host protein\", \"type\": \"Gene\", \"start\": 423, \"end\": 435}, {\"entity\": \"SARS-CoV-2\", \"type\": \"Virus\", \"start\": 61, \"end\": 71}, {\"entity\": \"SARS-CoV-2\", \"type\": \"Virus\", \"start\": 458, \"end\": 468}, {\"entity\": \"SARS-CoV-2\", \"type\": \"Virus\", \"start\": 592, \"end\": 602}, {\"entity\": \"SARS-CoV-2\", \"type\": \"Virus\", \"start\": 688, \"end\": 698}, {\"entity\": \"SARS-CoV-2\", \"type\": \"Virus\", \"start\": 879, \"end\": 889}, {\"entity\": \"SARS-CoV-2\", \"type\": \"Virus\", \"start\": 998, \"end\": 1008}, {\"entity\": \"SARS-CoV-2\", \"type\": \"Virus\", \"start\": 1338, \"end\": 1348}, {\"entity\": \"ACE2 gene\", \"type\": \"Gene\", \"start\": 487, \"end\": 496}, {\"entity\": \"coronaviruses\", \"type\": \"Virus\", \"start\": 1219, \"end\": 1232}, {\"entity\": \"host proteins\", \"type\": \"Gene\", \"start\": 1298, \"end\": 1311}]}"
      ]
    },
    {
      "cell_type": "code",
      "metadata": {
        "id": "EvWI-rMX4MaI",
        "colab_type": "code",
        "colab": {}
      },
      "source": [
        "for token, label in zip(new_tokens, new_labels):\n",
        "    print(\"{}\\t{}\".format(label, token))"
      ],
      "execution_count": null,
      "outputs": []
    },
    {
      "cell_type": "markdown",
      "metadata": {
        "id": "f4M7NaIA7X82",
        "colab_type": "text"
      },
      "source": [
        "# Evaluate datasets from biendata"
      ]
    },
    {
      "cell_type": "code",
      "metadata": {
        "id": "ywZBP8y07XSt",
        "colab_type": "code",
        "colab": {
          "base_uri": "https://localhost:8080/",
          "height": 122
        },
        "outputId": "03bcf768-9ccd-4a9b-bbf2-8b88a1622ed9"
      },
      "source": [
        "import json\n",
        "\n",
        "input_dir = '/content/gdrive/My Drive/Covid19_data/'\n",
        "f_val = open(input_dir+'new_val.json','r')\n",
        "data = []\n",
        "for line in f_val:\n",
        "  oneline = json.loads(line)['text'].split('.')\n",
        "  for sent in oneline:\n",
        "    if len(sent) == 0: continue\n",
        "    if sent[0]==' ': sent = sent[1:]\n",
        "    data.append(sent)\n",
        "\n",
        "data[:5]"
      ],
      "execution_count": null,
      "outputs": [
        {
          "output_type": "execute_result",
          "data": {
            "text/plain": [
              "['Shared and distinct genetic risk factors for childhood-onset and adult-onset asthma: genome-wide and transcriptome-wide studies\\tGenetic risk factors for adult-onset asthma are largely a subset of the genetic risk for childhood-onset asthma but with overall smaller effects, suggesting a greater role for non-genetic risk factors in adult-onset asthma',\n",
              " 'Combined with gene expression and tissue enrichment patterns, we suggest that the establishment of disease in children is driven more by dysregulated allergy and epithelial barrier function genes, whereas the cause of adult-onset asthma is more lung-centred and environmentally determined, but with immune-mediated mechanisms driving disease progression in both children and adults',\n",
              " 'Spousal violence and potentially preventable single and recurrent spontaneous fetal loss in an African setting: cross-sectional study\\tSpousal violence increases the likelihood of single and repeated fetal loss',\n",
              " 'A large proportion of risk for recurrent fetal mortality is attributable to spousal violence and, therefore, is potentially preventable',\n",
              " 'Our findings support the idea of routine prenatal screening for spousal violence in the African setting, a region with the highest rate of fetal death in the world']"
            ]
          },
          "metadata": {
            "tags": []
          },
          "execution_count": 24
        }
      ]
    },
    {
      "cell_type": "code",
      "metadata": {
        "id": "5yM3EUvM7pPE",
        "colab_type": "code",
        "colab": {}
      },
      "source": [
        "eval_text = []\n",
        "for data0 in data:\n",
        "  return_texts = tokenizer.encode(data0)\n",
        "  eval_text.append(return_texts)"
      ],
      "execution_count": null,
      "outputs": []
    },
    {
      "cell_type": "code",
      "metadata": {
        "id": "64XszEQX72cf",
        "colab_type": "code",
        "colab": {
          "base_uri": "https://localhost:8080/",
          "height": 265
        },
        "outputId": "e98d9bc9-f93e-42ba-b2c2-63288df6b4c8"
      },
      "source": [
        "text_len = []\n",
        "for txt in eval_text:\n",
        "  text_len.append(len(txt))\n",
        "\n",
        "plt.plot(text_len)\n",
        "plt.show()"
      ],
      "execution_count": null,
      "outputs": [
        {
          "output_type": "display_data",
          "data": {
            "image/png": "[encoded data removed]",
            "text/plain": [
              "<Figure size 432x288 with 1 Axes>"
            ]
          },
          "metadata": {
            "tags": [],
            "needs_background": "light"
          }
        }
      ]
    },
    {
      "cell_type": "code",
      "metadata": {
        "id": "yAYJrs9G8MNd",
        "colab_type": "code",
        "colab": {
          "base_uri": "https://localhost:8080/",
          "height": 595
        },
        "outputId": "f752f53e-16be-41e3-ec04-fd6c641a1a7f"
      },
      "source": [
        "MAX_LEN = 150\n",
        "eval_input_ids = pad_sequences(eval_text,\n",
        "                          maxlen=MAX_LEN, dtype=\"long\", value=0.0,\n",
        "                          truncating=\"post\", padding=\"post\")\n",
        "eval_input_ids[:2]"
      ],
      "execution_count": null,
      "outputs": [
        {
          "output_type": "execute_result",
          "data": {
            "text/plain": [
              "array([[  101,  4207,  1998,  5664,  7403,  3891,  5876,  2005,  5593,\n",
              "         1011, 14447,  1998,  4639,  1011, 14447, 26180,  1024, 13458,\n",
              "         1011,  2898,  1998, 24051,  8462,  1011,  2898,  2913,  7403,\n",
              "         3891,  5876,  2005,  4639,  1011, 14447, 26180,  2024,  4321,\n",
              "         1037, 16745,  1997,  1996,  7403,  3891,  2005,  5593,  1011,\n",
              "        14447, 26180,  2021,  2007,  3452,  3760,  3896,  1010,  9104,\n",
              "         1037,  3618,  2535,  2005,  2512,  1011,  7403,  3891,  5876,\n",
              "         1999,  4639,  1011, 14447, 26180,   102,     0,     0,     0,\n",
              "            0,     0,     0,     0,     0,     0,     0,     0,     0,\n",
              "            0,     0,     0,     0,     0,     0,     0,     0,     0,\n",
              "            0,     0,     0,     0,     0,     0,     0,     0,     0,\n",
              "            0,     0,     0,     0,     0,     0,     0,     0,     0,\n",
              "            0,     0,     0,     0,     0,     0,     0,     0,     0,\n",
              "            0,     0,     0,     0,     0,     0,     0,     0,     0,\n",
              "            0,     0,     0,     0,     0,     0,     0,     0,     0,\n",
              "            0,     0,     0,     0,     0,     0,     0,     0,     0,\n",
              "            0,     0,     0,     0,     0,     0],\n",
              "       [  101,  4117,  2007,  4962,  3670,  1998,  8153, 27226,  7060,\n",
              "         1010,  2057,  6592,  2008,  1996,  5069,  1997,  4295,  1999,\n",
              "         2336,  2003,  5533,  2062,  2011,  1040,  7274,  2890, 24848,\n",
              "         4383,  2035, 24395,  1998,  4958,  8939, 24587,  8803,  3853,\n",
              "         9165,  1010,  6168,  1996,  3426,  1997,  4639,  1011, 14447,\n",
              "        26180,  2003,  2062, 11192,  1011, 16441,  1998, 25262,  4340,\n",
              "         1010,  2021,  2007, 11311,  1011, 19872, 10595,  4439,  4295,\n",
              "        14967,  1999,  2119,  2336,  1998,  6001,   102,     0,     0,\n",
              "            0,     0,     0,     0,     0,     0,     0,     0,     0,\n",
              "            0,     0,     0,     0,     0,     0,     0,     0,     0,\n",
              "            0,     0,     0,     0,     0,     0,     0,     0,     0,\n",
              "            0,     0,     0,     0,     0,     0,     0,     0,     0,\n",
              "            0,     0,     0,     0,     0,     0,     0,     0,     0,\n",
              "            0,     0,     0,     0,     0,     0,     0,     0,     0,\n",
              "            0,     0,     0,     0,     0,     0,     0,     0,     0,\n",
              "            0,     0,     0,     0,     0,     0,     0,     0,     0,\n",
              "            0,     0,     0,     0,     0,     0]])"
            ]
          },
          "metadata": {
            "tags": []
          },
          "execution_count": 28
        }
      ]
    },
    {
      "cell_type": "code",
      "metadata": {
        "id": "Zt9DGey38QEF",
        "colab_type": "code",
        "colab": {
          "base_uri": "https://localhost:8080/",
          "height": 34
        },
        "outputId": "c40c9455-5356-48a0-d7e4-beadabff183c"
      },
      "source": [
        "eval_inputs = torch.tensor(eval_input_ids).cuda()\n",
        "print(len(eval_inputs), len(eval_inputs[0]))"
      ],
      "execution_count": null,
      "outputs": [
        {
          "output_type": "stream",
          "text": [
            "20404 150\n"
          ],
          "name": "stdout"
        }
      ]
    },
    {
      "cell_type": "code",
      "metadata": {
        "id": "LPCb-Zzv8Sza",
        "colab_type": "code",
        "colab": {}
      },
      "source": [
        "bs = 32\n",
        "eval_data = TensorDataset(eval_inputs)\n",
        "eval_sampler = SequentialSampler(eval_data)\n",
        "eval_dataloader = DataLoader(eval_data, sampler=eval_sampler, batch_size=bs)"
      ],
      "execution_count": null,
      "outputs": []
    },
    {
      "cell_type": "code",
      "metadata": {
        "id": "UTFpsAok8YPm",
        "colab_type": "code",
        "colab": {}
      },
      "source": [
        "# Put the model into evaluation mode\n",
        "model.eval()\n",
        "total_labels , total_tokens = [], []\n",
        "for batch in eval_dataloader:\n",
        "    b_input_ids = batch[0]\n",
        "    #print(b_input_ids)\n",
        "\n",
        "    # Telling the model not to compute or store gradients,\n",
        "    # saving memory and speeding up validation\n",
        "    with torch.no_grad():\n",
        "        # Forward pass, calculate logit predictions.\n",
        "        # This will return the logits rather than the loss because we have not provided labels.\n",
        "        output = model(b_input_ids)\n",
        "    # Move logits and labels to CPU\n",
        "    label_indices = np.argmax(output[0].to('cpu').numpy(), axis=2)\n",
        "\n",
        "    # join bpe split tokens\n",
        "    tokens = tokenizer.convert_ids_to_tokens(b_input_ids.to('cpu').numpy()[0])\n",
        "    new_tokens, new_labels = [], []\n",
        "    for token, label_idx in zip(tokens, label_indices[0]):\n",
        "        if token.startswith(\"##\"):\n",
        "            new_tokens[-1] = new_tokens[-1] + token[2:]\n",
        "        else:\n",
        "            new_labels.append(tag_values[label_idx])\n",
        "            new_tokens.append(token)\n",
        "    total_labels += new_labels\n",
        "    total_tokens += new_tokens"
      ],
      "execution_count": null,
      "outputs": []
    },
    {
      "cell_type": "code",
      "metadata": {
        "id": "4FJsY9JD8dQI",
        "colab_type": "code",
        "colab": {}
      },
      "source": [
        "with open(input_dir+'output_new_val_0715.txt', 'w') as f:\n",
        "  for token, label in zip(total_tokens, total_labels):\n",
        "    print(token, label, file=f, sep='\\t')"
      ],
      "execution_count": null,
      "outputs": []
    }
  ]
}